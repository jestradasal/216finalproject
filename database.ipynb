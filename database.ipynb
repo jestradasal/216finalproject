{
 "cells": [
  {
   "cell_type": "markdown",
   "metadata": {},
   "source": [
    "# Final Project: SAT Scores and Socioeconomic Factors"
   ]
  },
  {
   "cell_type": "markdown",
   "metadata": {},
   "source": [
    "\n",
    "__TEAM MEMBERS__:\n",
    "Anthony Rodriguez, Dania Estrada, Judyth Estrada, Kalito Luna"
   ]
  },
  {
   "cell_type": "markdown",
   "metadata": {},
   "source": [
    "# Preparing the data as python arrays"
   ]
  },
  {
   "cell_type": "code",
   "execution_count": 6,
   "metadata": {},
   "outputs": [],
   "source": [
    "import psycopg2"
   ]
  },
  {
   "cell_type": "code",
   "execution_count": 7,
   "metadata": {},
   "outputs": [],
   "source": [
    "def twenty13():\n",
    "    conn = psycopg2.connect(\"dbname=north_carolina\")\n",
    "    cur = conn.cursor()\n",
    "    cur.execute('''\n",
    "    SELECT TRIM(FROM county) as county, math, cr, writing, total_score, income, lunch, \n",
    "    dropout, hispanic, black, white, other  \n",
    "    FROM \"2013\"\n",
    "    LIMIT 10;\n",
    "    ''')\n",
    "    twenty13 = []\n",
    "    for row in cur:\n",
    "        twenty13.append(row)\n",
    "    print twenty13\n",
    "    # close database connection\n",
    "    cur.close()\n",
    "    conn.close()\n",
    "    "
   ]
  },
  {
   "cell_type": "code",
   "execution_count": 8,
   "metadata": {},
   "outputs": [
    {
     "name": "stdout",
     "output_type": "stream",
     "text": [
      "[('Alamance', 490.0, 469.0, 455.0, 1414.0, 41371.0, 50.9556145, 3.31, 22.40278584, 21.06790482, 51.32371981, 5.205589535), ('Alexander', 485.0, 465.0, 445.0, 1395.0, 39812.0, 45.6954887, 2.49, 7.475764355, 3.784489187, 83.6316182, 5.108128262), ('Alleghany', 489.0, 472.0, 457.0, 1418.0, 32673.0, 58.3333333, 2.97, 18.20143885, 0.575539568, 79.85611511, 1.366906475), ('Anson', 419.0, 423.0, 409.0, 1251.0, 32341.0, 71.6897507, 4.06, 3.178082192, 57.83561644, 34.2739726, 4.712328767), ('Ashe', 509.0, 475.0, 464.0, 1448.0, 34333.0, 50.6157247, 2.48, 8.64390855, 0.40714062, 89.22643282, 1.722518008), ('Avery', 504.0, 523.0, 499.0, 1526.0, 36071.0, 51.6401125, 1.23, 8.70379036, 0.280767431, 89.14365934, 1.871782873), ('Beaufort', 477.0, 463.0, 441.0, 1381.0, 38248.0, 60.9312321, 2.05, 13.62215909, 32.31534091, 50.01420455, 4.048295455), ('Bertie', 404.0, 394.0, 380.0, 1178.0, 29615.0, 79.7250859, 3.12, 2.028549962, 81.55522164, 14.65063862, 1.765589782), ('Bladen', 440.0, 425.0, 400.0, 1265.0, 33138.0, 73.0753564, 4.22, 14.11079888, 40.4857487, 40.08430349, 5.319148936), ('Brunswick', 486.0, 482.0, 466.0, 1434.0, 42685.0, 54.2250635, 3.09, 10.46370478, 15.93428826, 67.97766448, 5.624342478)]\n"
     ]
    }
   ],
   "source": [
    "twenty13()"
   ]
  },
  {
   "cell_type": "code",
   "execution_count": 9,
   "metadata": {},
   "outputs": [],
   "source": [
    "def dictionary_data():\n",
    "    conn = psycopg2.connect(\"dbname=north_carolina\")\n",
    "    cur = conn.cursor()\n",
    "    cur.execute('''\n",
    "    SELECT TRIM(FROM county) as county, total_score, income, lunch, \n",
    "    dropout, hispanic, black, white, other  \n",
    "    FROM \"2013\"\n",
    "    LIMIT 10;\n",
    "    ''')\n",
    "    d = {\"counties\": [], \"sat_scores\": [], \"income\": [], \"lunch\": [], \"dropout\": [], \"hispanic\": [], \"black\": [], \"white\": [], \"other\": []}\n",
    "\n",
    "    for county, total_score, income, lunch, dropout, hispanic, black, white, other in cur:\n",
    "        d[\"counties\"].append(county)\n",
    "        d[\"sat_scores\"].append(total_score)\n",
    "        d[\"income\"].append(income)\n",
    "        d[\"lunch\"].append(lunch)\n",
    "        d[\"dropout\"].append(dropout)\n",
    "        d[\"hispanic\"].append(hispanic)\n",
    "        d[\"black\"].append(black)\n",
    "        d[\"white\"].append(white)\n",
    "        d[\"other\"].append(other)\n",
    "        \n",
    "    print d\n",
    "    # close database connection\n",
    "    cur.close()\n",
    "    conn.close()"
   ]
  },
  {
   "cell_type": "code",
   "execution_count": 10,
   "metadata": {},
   "outputs": [
    {
     "name": "stdout",
     "output_type": "stream",
     "text": [
      "{'sat_scores': [1414.0, 1395.0, 1418.0, 1251.0, 1448.0, 1526.0, 1381.0, 1178.0, 1265.0, 1434.0], 'lunch': [50.9556145, 45.6954887, 58.3333333, 71.6897507, 50.6157247, 51.6401125, 60.9312321, 79.7250859, 73.0753564, 54.2250635], 'hispanic': [22.40278584, 7.475764355, 18.20143885, 3.178082192, 8.64390855, 8.70379036, 13.62215909, 2.028549962, 14.11079888, 10.46370478], 'black': [21.06790482, 3.784489187, 0.575539568, 57.83561644, 0.40714062, 0.280767431, 32.31534091, 81.55522164, 40.4857487, 15.93428826], 'income': [41371.0, 39812.0, 32673.0, 32341.0, 34333.0, 36071.0, 38248.0, 29615.0, 33138.0, 42685.0], 'dropout': [3.31, 2.49, 2.97, 4.06, 2.48, 1.23, 2.05, 3.12, 4.22, 3.09], 'other': [5.205589535, 5.108128262, 1.366906475, 4.712328767, 1.722518008, 1.871782873, 4.048295455, 1.765589782, 5.319148936, 5.624342478], 'white': [51.32371981, 83.6316182, 79.85611511, 34.2739726, 89.22643282, 89.14365934, 50.01420455, 14.65063862, 40.08430349, 67.97766448], 'counties': ['Alamance', 'Alexander', 'Alleghany', 'Anson', 'Ashe', 'Avery', 'Beaufort', 'Bertie', 'Bladen', 'Brunswick']}\n"
     ]
    }
   ],
   "source": [
    "dictionary_data()"
   ]
  },
  {
   "cell_type": "code",
   "execution_count": 4,
   "metadata": {},
   "outputs": [],
   "source": [
    "def dropout_data():\n",
    "    conn = psycopg2.connect(\"dbname=north_carolina\")\n",
    "    cur = conn.cursor()\n",
    "    cur.execute('''\n",
    "    SELECT TRIM(FROM county) as county, \"2013\", \"2014\", \"2015\", \"2016\", \"2017\" \n",
    "    FROM dropout_rates\n",
    "    LIMIT 10;\n",
    "    ''')\n",
    "    #print \"Schema: county, dropout_rate_2013, dropout_rate_2014, dropout_rate_2015, dropout_rate_2016, dropout_rate_2017\"\n",
    "    dropout_data = []\n",
    "    for row in cur:\n",
    "        dropout_data.append(row)\n",
    "    print dropout_data\n",
    "    # close database connection\n",
    "    cur.close()\n",
    "    conn.close()"
   ]
  },
  {
   "cell_type": "code",
   "execution_count": 5,
   "metadata": {},
   "outputs": [
    {
     "name": "stdout",
     "output_type": "stream",
     "text": [
      "[('Alamance', 3.31, 3.25, 3.48, 3.93, 3.47), ('Alexander', 2.49, 2.82, 2.79, 3.13, 2.85), ('Alleghany', 2.97, 2.54, 2.58, 4.28, 2.42), ('Anson', 4.06, 1.96, 3.75, 4.57, 4.49), ('Ashe', 2.48, 2.86, 3.93, 2.14, 1.67), ('Avery', 1.23, 2.01, 1.35, 1.07, 1.43), ('Beaufort', 2.05, 2.24, 2.59, 3.05, 3.18), ('Bertie', 3.12, 2.99, 2.06, 3.28, 2.11), ('Bladen', 4.22, 4.62, 3.97, 1.48, 2.92), ('Brunswick', 3.09, 3.2, 3.82, 3.28, 2.48)]\n"
     ]
    }
   ],
   "source": [
    "dropout_data()"
   ]
  },
  {
   "cell_type": "code",
   "execution_count": 6,
   "metadata": {},
   "outputs": [],
   "source": [
    "def sat_scores_data():\n",
    "    conn = psycopg2.connect(\"dbname=north_carolina\")\n",
    "    cur = conn.cursor()\n",
    "    cur.execute('''\n",
    "    SELECT TRIM(FROM county) as county,  \n",
    "    math_2013, cr_2013, writing_2013, total_2013, \n",
    "    math_2014, cr_2014, writing_2014, total_2014,\n",
    "    math_2015, cr_2015, writing_2015, total_2015, \n",
    "    math_2016, cr_2016, writing_2016, total_2016, \n",
    "    erw_2017, math_2017, total_2017\n",
    "    FROM sat_scores\n",
    "    LIMIT 10;\n",
    "    ''')\n",
    "    #print \"Schema: county, \n",
    "    #math_2013, cr_2013, writing_2013, total_2013, \n",
    "    #math_2014, cr_2014, writing_2014, total_2014,\n",
    "    #math_2015, cr_2015, writing_2015, total_2015, \n",
    "    #math_2016, cr_2016, writing_2016, total_2016, \n",
    "    #erw_2017, math_2017, total_2017\"\n",
    "    sat_scores = []\n",
    "    for row in cur:\n",
    "        sat_scores.append(row)\n",
    "    print sat_scores\n",
    "    cur.close()\n",
    "    conn.close()"
   ]
  },
  {
   "cell_type": "code",
   "execution_count": 7,
   "metadata": {},
   "outputs": [
    {
     "name": "stdout",
     "output_type": "stream",
     "text": [
      "[('Alamance', 490.0, 469.0, 455.0, 1414.0, 488.0, 476.0, 454.0, 1418.0, 486.0, 473.0, 450.0, 1409.0, 488.0, 473.0, 445.0, 1406.0, 520.0, 521.0, 1041.0), ('Alexander', 485.0, 465.0, 445.0, 1395.0, 506.0, 477.0, 456.0, 1439.0, 501.0, 483.0, 460.0, 1444.0, 484.0, 480.0, 449.0, 1413.0, 533.0, 518.0, 1051.0), ('Alleghany', 489.0, 472.0, 457.0, 1418.0, 482.0, 477.0, 445.0, 1404.0, 490.0, 480.0, 445.0, 1415.0, 425.0, 445.0, 419.0, 1289.0, 466.0, 449.0, 915.0), ('Anson', 419.0, 423.0, 409.0, 1251.0, 407.0, 412.0, 391.0, 1210.0, 413.0, 413.0, 390.0, 1216.0, 407.0, 406.0, 381.0, 1194.0, 436.0, 436.0, 872.0), ('Ashe', 509.0, 475.0, 464.0, 1448.0, 512.0, 484.0, 461.0, 1457.0, 509.0, 471.0, 472.0, 1452.0, 489.0, 510.0, 450.0, 1449.0, 566.0, 527.0, 1094.0), ('Avery', 504.0, 523.0, 499.0, 1526.0, 482.0, 482.0, 451.0, 1415.0, 491.0, 508.0, 466.0, 1465.0, 469.0, 473.0, 438.0, 1380.0, 0.0, 0.0, 0.0), ('Beaufort', 477.0, 463.0, 441.0, 1381.0, 475.0, 463.0, 433.0, 1371.0, 469.0, 454.0, 425.0, 1348.0, 442.0, 440.0, 410.0, 1292.0, 493.0, 481.0, 974.0), ('Bertie', 404.0, 394.0, 380.0, 1178.0, 466.0, 458.0, 427.0, 1351.0, 466.0, 450.0, 422.0, 1338.0, 447.0, 422.0, 411.0, 1280.0, 490.0, 489.0, 978.0), ('Bladen', 440.0, 425.0, 400.0, 1265.0, 429.0, 396.0, 393.0, 1218.0, 442.0, 414.0, 415.0, 1271.0, 488.0, 476.0, 441.0, 1405.0, 541.0, 524.0, 1066.0), ('Brunswick', 486.0, 482.0, 466.0, 1434.0, 428.0, 428.0, 399.0, 1255.0, 412.0, 416.0, 390.0, 1218.0, 525.0, 498.0, 470.0, 1493.0, 553.0, 524.0, 1078.0)]\n"
     ]
    }
   ],
   "source": [
    "sat_scores_data()"
   ]
  },
  {
   "cell_type": "code",
   "execution_count": 8,
   "metadata": {},
   "outputs": [],
   "source": [
    "def free_lunch():\n",
    "    conn = psycopg2.connect(\"dbname=north_carolina\")\n",
    "    cur = conn.cursor()\n",
    "    cur.execute('''\n",
    "    SELECT TRIM(FROM county) as county, percent_2013, percent_2014, percent_2015, percent_2016, percent_2017 \n",
    "    FROM free_lunch\n",
    "    LIMIT 10;\n",
    "    ''')\n",
    "    #print \"Schema: county, percent_2013, percent_2014, percent_2015, percent_2016, percent_2017\"\n",
    "    \n",
    "    free_lunch_data = []\n",
    "    for row in cur:\n",
    "        free_lunch_data.append(row)\n",
    "    print free_lunch_data\n",
    "    cur.close()\n",
    "    conn.close()\n",
    "    "
   ]
  },
  {
   "cell_type": "code",
   "execution_count": 9,
   "metadata": {},
   "outputs": [
    {
     "name": "stdout",
     "output_type": "stream",
     "text": [
      "[('Alamance', 50.9556145, 53.3656196, 54.69828349, 49.74778761, 56.3820832), ('Alexander', 45.6954887, 46.1949266, 45.9765625, 46.10560388, 47.28427957), ('Alleghany', 58.3333333, 57.7808793, 50.10814708, 58.64825581, 62.81669151), ('Anson', 71.6897507, 73.8362311, 73.58166189, 65.88579795, 96.65461121), ('Ashe', 50.6157247, 53.7042925, 53.10077519, 51.72863666, 50.08386448), ('Avery', 51.6401125, 58.9660743, 60.13143483, 59.56164384, 56.77200903), ('Beaufort', 60.9312321, 61.0792193, 61.04944501, 59.94733762, 73.71497078), ('Bertie', 79.7250859, 87.3862696, 78.43224092, 82.028717, 99.80334317), ('Bladen', 73.0753564, 72.1297482, 59.59314775, 61.66306695, 99.57852706), ('Brunswick', 54.2250635, 56.4271907, 50.32435939, 54.4991511, 54.96816826)]\n"
     ]
    }
   ],
   "source": [
    "free_lunch()"
   ]
  },
  {
   "cell_type": "code",
   "execution_count": 10,
   "metadata": {},
   "outputs": [],
   "source": [
    "def race_data():\n",
    "    conn = psycopg2.connect(\"dbname=north_carolina\")\n",
    "    cur = conn.cursor()\n",
    "    cur.execute('''\n",
    "    SELECT TRIM(FROM county) as county, \n",
    "    hispanic_2013, black_2013, white_2013, other_2013, total_2013, \n",
    "    hispanic_2014, black_2014, white_2014, other_2014, total_2014, \n",
    "    hispanic_2015, black_2015, white_2015, other_2015, total_2015, \n",
    "    hispanic_2016, black_2016, white_2016, other_2016, total_2016, \n",
    "    hispanic_2017, black_2017, white_2017, other_2017, total_2017 \n",
    "    FROM races\n",
    "    LIMIT 10;\n",
    "    ''')\n",
    "    #all black,hispanic, white, and other numbers are percentages of race makeup per county. total shows total number of kids in that county\n",
    "    #print \"Schema: county,\n",
    "    #hispanic_2013, black_2013, white_2013, other_2013, total_2013, \n",
    "    #hispanic_2014, black_2014, white_2014, other_2014, total_2014, \n",
    "    #hispanic_2015, black_2015, white_2015, other_2015, total_2015, \n",
    "    #hispanic_2016, black_2016, white_2016, other_2016, total_2016, \n",
    "    #hispanic_2017, black_2017, white_2017, other_2017, total_2017\"\n",
    "    race_data = []\n",
    "    for row in cur:\n",
    "        race_data.append(row)\n",
    "    print race_data\n",
    "    \n",
    "    cur.close()\n",
    "    conn.close()\n",
    "    "
   ]
  },
  {
   "cell_type": "code",
   "execution_count": 11,
   "metadata": {},
   "outputs": [
    {
     "name": "stdout",
     "output_type": "stream",
     "text": [
      "[('Alamance', 22.40278584, 21.06790482, 51.32371981, 5.205589535, 22399.0, 23.24563343, 21.04355516, 50.05527305, 5.655538359, 22615.0, 24.08842699, 21.39334155, 48.57319007, 5.945041395, 22708.0, 24.83645783, 22.03099618, 46.90257716, 6.229968828, 22777.0, 26.38117896, 22.57908186, 44.44444444, 6.595294738, 22698.0), ('Alexander', 7.475764355, 3.784489187, 83.6316182, 5.108128262, 5364.0, 8.034026465, 3.913043478, 82.28733459, 5.765595463, 5290.0, 8.478176902, 4.05561993, 81.63383546, 5.83236771, 5178.0, 9.209470305, 4.073033708, 80.81861958, 5.898876404, 4984.0, 9.866939611, 3.930399181, 80.12282497, 6.079836233, 4885.0), ('Alleghany', 18.20143885, 0.575539568, 79.85611511, 1.366906475, 1390.0, 20.46227056, 0.747790619, 76.34262407, 2.447314752, 1471.0, 20.51100071, 0.567778566, 76.72107878, 2.200141945, 1409.0, 20.71174377, 0.711743772, 75.9430605, 2.633451957, 1405.0, 23.40585146, 0.750187547, 72.8432108, 3.00075019, 1333.0), ('Anson', 3.178082192, 57.83561644, 34.2739726, 4.712328767, 3650.0, 3.414769572, 57.63464742, 34.50860633, 4.44197668, 3602.0, 3.857061826, 56.86330119, 34.79863868, 4.480998298, 3526.0, 3.96039604, 57.51310425, 33.80896913, 4.717530577, 3434.0, 5.162638019, 56.43091614, 32.97523127, 5.431214562, 3351.0), ('Ashe', 8.64390855, 0.40714062, 89.22643282, 1.722518008, 3193.0, 9.388783869, 0.504095778, 87.68115942, 2.425960933, 3174.0, 9.160305344, 0.477099237, 88.67684478, 1.685750636, 3144.0, 9.874152953, 0.580832527, 87.96385931, 1.581155211, 3099.0, 11.36820926, 0.60362173, 85.81488934, 2.213279674, 2982.0), ('Avery', 8.70379036, 0.280767431, 89.14365934, 1.871782873, 2137.0, 10.06960557, 0.278422274, 87.00696056, 2.645011601, 2155.0, 10.38899431, 0.569259962, 86.66982922, 2.371916509, 2108.0, 10.9569378, 0.38277512, 86.02870813, 2.631578947, 2090.0, 11.48373984, 0.304878049, 84.95934959, 3.252032518, 1968.0), ('Beaufort', 13.62215909, 32.31534091, 50.01420455, 4.048295455, 7040.0, 14.0398293, 32.98719772, 48.89046942, 4.082503556, 7030.0, 14.80478769, 32.98660587, 48.1476204, 4.060986036, 7018.0, 15.49826188, 33.24159907, 47.01622248, 4.24391657, 6904.0, 16.41134537, 32.21598665, 46.61004095, 4.762627025, 6593.0), ('Bertie', 2.028549962, 81.55522164, 14.65063862, 1.765589782, 2662.0, 2.013677812, 80.69908815, 15.00759878, 2.279635258, 2632.0, 2.218570255, 81.18323747, 14.79046836, 1.807723911, 2434.0, 2.449505801, 81.09153416, 14.18134938, 2.277610657, 2327.0, 2.1957914, 80.7410796, 14.18115279, 2.881976212, 2186.0), ('Bladen', 14.11079888, 40.4857487, 40.08430349, 5.319148936, 4982.0, 15.51322751, 39.04761905, 39.57671958, 5.862433862, 4725.0, 17.08147203, 38.07700489, 39.09806424, 5.743458839, 4701.0, 17.9823618, 37.38438374, 38.26629383, 6.366960637, 4649.0, 18.90628652, 37.06473475, 37.06473475, 6.964243978, 4279.0), ('Brunswick', 10.46370478, 15.93428826, 67.97766448, 5.624342478, 12357.0, 11.17080994, 15.53327987, 67.34562951, 5.950280674, 12470.0, 11.56337465, 15.53778489, 67.33306677, 5.565773691, 12505.0, 12.46295555, 14.97797357, 66.72006408, 5.839006808, 12485.0, 13.31001034, 15.02743102, 65.28583923, 6.376719405, 12577.0)]\n"
     ]
    }
   ],
   "source": [
    "race_data()"
   ]
  }
 ],
 "metadata": {
  "kernelspec": {
   "display_name": "Python 2",
   "language": "python",
   "name": "python2"
  },
  "language_info": {
   "codemirror_mode": {
    "name": "ipython",
    "version": 2
   },
   "file_extension": ".py",
   "mimetype": "text/x-python",
   "name": "python",
   "nbconvert_exporter": "python",
   "pygments_lexer": "ipython2",
   "version": "2.7.12"
  }
 },
 "nbformat": 4,
 "nbformat_minor": 1
}
