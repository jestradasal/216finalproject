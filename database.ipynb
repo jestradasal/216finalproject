{
 "cells": [
  {
   "cell_type": "markdown",
   "metadata": {},
   "source": [
    "# Final Project: SAT Scores and Socioeconomic Factors"
   ]
  },
  {
   "cell_type": "markdown",
   "metadata": {},
   "source": [
    "\n",
    "__TEAM MEMBERS__:\n",
    "Anthony Rodriguez, Dania Estrada, Judyth Estrada, Kalito Luna"
   ]
  },
  {
   "cell_type": "markdown",
   "metadata": {},
   "source": [
    "# Preparing the data as python arrays"
   ]
  },
  {
   "cell_type": "code",
   "execution_count": 1,
   "metadata": {},
   "outputs": [
    {
     "name": "stderr",
     "output_type": "stream",
     "text": [
      "/home/vcm/.local/lib/python2.7/site-packages/psycopg2/__init__.py:144: UserWarning: The psycopg2 wheel package will be renamed from release 2.8; in order to keep installing from binary please use \"pip install psycopg2-binary\" instead. For details see: <http://initd.org/psycopg/docs/install.html#binary-install-from-pypi>.\n",
      "  \"\"\")\n"
     ]
    }
   ],
   "source": [
    "import psycopg2"
   ]
  },
  {
   "cell_type": "code",
   "execution_count": 6,
   "metadata": {
    "collapsed": true
   },
   "outputs": [],
   "source": [
    "def income_data():\n",
    "    conn = psycopg2.connect(\"dbname=north_carolina\")\n",
    "    cur = conn.cursor()\n",
    "    cur.execute('''\n",
    "    SELECT TRIM(FROM county) as county, \"2012\", \"2013\", \"2014\", \"2015\", \"2016\", \"2017\" FROM median_income;\n",
    "    ''')\n",
    "    print \"Schema: county, 2012, 2013, 2014, 2015, 2016, 2017\"\n",
    "    for row in cur:\n",
    "        print row\n",
    "    # close database connection\n",
    "    cur.close()\n",
    "    conn.close()"
   ]
  },
  {
   "cell_type": "code",
   "execution_count": 7,
   "metadata": {},
   "outputs": [
    {
     "ename": "NameError",
     "evalue": "global name 'psycopg2' is not defined",
     "output_type": "error",
     "traceback": [
      "\u001b[0;31m---------------------------------------------------------------------------\u001b[0m",
      "\u001b[0;31mNameError\u001b[0m                                 Traceback (most recent call last)",
      "\u001b[0;32m<ipython-input-7-85a2dfa4f43b>\u001b[0m in \u001b[0;36m<module>\u001b[0;34m()\u001b[0m\n\u001b[0;32m----> 1\u001b[0;31m \u001b[0;32mprint\u001b[0m \u001b[0mincome_data\u001b[0m\u001b[0;34m(\u001b[0m\u001b[0;34m)\u001b[0m\u001b[0;34m\u001b[0m\u001b[0m\n\u001b[0m",
      "\u001b[0;32m<ipython-input-6-3dcf0ad1eb19>\u001b[0m in \u001b[0;36mincome_data\u001b[0;34m()\u001b[0m\n\u001b[1;32m      1\u001b[0m \u001b[0;32mdef\u001b[0m \u001b[0mincome_data\u001b[0m\u001b[0;34m(\u001b[0m\u001b[0;34m)\u001b[0m\u001b[0;34m:\u001b[0m\u001b[0;34m\u001b[0m\u001b[0m\n\u001b[0;32m----> 2\u001b[0;31m     \u001b[0mconn\u001b[0m \u001b[0;34m=\u001b[0m \u001b[0mpsycopg2\u001b[0m\u001b[0;34m.\u001b[0m\u001b[0mconnect\u001b[0m\u001b[0;34m(\u001b[0m\u001b[0;34m\"dbname=north_carolina\"\u001b[0m\u001b[0;34m)\u001b[0m\u001b[0;34m\u001b[0m\u001b[0m\n\u001b[0m\u001b[1;32m      3\u001b[0m     \u001b[0mcur\u001b[0m \u001b[0;34m=\u001b[0m \u001b[0mconn\u001b[0m\u001b[0;34m.\u001b[0m\u001b[0mcursor\u001b[0m\u001b[0;34m(\u001b[0m\u001b[0;34m)\u001b[0m\u001b[0;34m\u001b[0m\u001b[0m\n\u001b[1;32m      4\u001b[0m     cur.execute('''\n\u001b[1;32m      5\u001b[0m     \u001b[0mSELECT\u001b[0m \u001b[0mTRIM\u001b[0m\u001b[0;34m(\u001b[0m\u001b[0mFROM\u001b[0m \u001b[0mcounty\u001b[0m\u001b[0;34m)\u001b[0m \u001b[0;32mas\u001b[0m \u001b[0mcounty\u001b[0m\u001b[0;34m,\u001b[0m \u001b[0;34m\"2012\"\u001b[0m\u001b[0;34m,\u001b[0m \u001b[0;34m\"2013\"\u001b[0m\u001b[0;34m,\u001b[0m \u001b[0;34m\"2014\"\u001b[0m\u001b[0;34m,\u001b[0m \u001b[0;34m\"2015\"\u001b[0m\u001b[0;34m,\u001b[0m \u001b[0;34m\"2016\"\u001b[0m\u001b[0;34m,\u001b[0m \u001b[0;34m\"2017\"\u001b[0m \u001b[0mFROM\u001b[0m \u001b[0mmedian_income\u001b[0m\u001b[0;34m;\u001b[0m\u001b[0;34m\u001b[0m\u001b[0m\n",
      "\u001b[0;31mNameError\u001b[0m: global name 'psycopg2' is not defined"
     ]
    }
   ],
   "source": [
    "print income_data()"
   ]
  },
  {
   "cell_type": "code",
   "execution_count": 8,
   "metadata": {
    "collapsed": true
   },
   "outputs": [],
   "source": [
    "def dropout_data():\n",
    "    conn = psycopg2.connect(\"dbname=north_carolina\")\n",
    "    cur = conn.cursor()\n",
    "    cur.execute('''\n",
    "    SELECT TRIM(FROM county) as county, \"2013\", \"2014\", \"2015\", \"2016\", \"2017\" FROM dropout_rates;\n",
    "    ''')\n",
    "    print \"Schema: county, 2013, 2014, 2015, 2016, 2017\"\n",
    "    for row in cur:\n",
    "        print row\n",
    "    # close database connection\n",
    "    cur.close()\n",
    "    conn.close()"
   ]
  },
  {
   "cell_type": "code",
   "execution_count": 6,
   "metadata": {
    "collapsed": true
   },
   "outputs": [],
   "source": [
    "def sat_scores_data():\n",
    "    conn = psycopg2.connect(\"dbname=north_carolina\")\n",
    "    cur = conn.cursor()\n",
    "    cur.execute('''\n",
    "    SELECT TRIM(FROM county) as county, \n",
    "    math_2011, cr_2011, writing_2011, total_2011, \n",
    "    math_2012, cr_2012, writing_2012, total_2012, \n",
    "    math_2013, cr_2013, writing_2013, total_2013, \n",
    "    math_2014, cr_2014, writing_2014, total_2014,\n",
    "    math_2015, cr_2015, writing_2015, total_2015, \n",
    "    math_2016, cr_2016, writing_2016, total_2016, \n",
    "    erw_2017, math_2017, total_2017\n",
    "    \n",
    "    FROM sat_scores;\n",
    "    ''')\n",
    "    print \"Schema: county, math_2011, cr_2011, writing_2011, total_2011, math_2012, cr_2012, writing_2012, total_2012, math_2013, cr_2013, writing_2013, total_2013, math_2014, cr_2014, writing_2014, total_2014, math_2015, cr_2015, writing_2015, total_2015, math_2016, cr_2016, writing_2016, total_2016, erw_2017, math_2017, total_2017\"\n",
    "    for row in cur:\n",
    "        print row\n",
    "    # close database connection\n",
    "    cur.close()\n",
    "    conn.close()"
   ]
  },
  {
   "cell_type": "code",
   "execution_count": 4,
   "metadata": {
    "collapsed": true
   },
   "outputs": [],
   "source": [
    "def free_lunch():\n",
    "    conn = psycopg2.connect(\"dbname=north_carolina\")\n",
    "    cur = conn.cursor()\n",
    "    cur.execute('''\n",
    "    SELECT TRIM(FROM county) as county, percent_2013, percent_2014, percent_2015, percent_2016, percent_2017 FROM free_lunch;\n",
    "    ''')\n",
    "    print \"Schema: county, percent_2013, percent_2014, percent_2015, percent_2016, percent_2017\"\n",
    "    for row in cur:\n",
    "        print row\n",
    "    # close database connection\n",
    "    cur.close()\n",
    "    conn.close()\n",
    "    "
   ]
  },
  {
   "cell_type": "code",
   "execution_count": 9,
   "metadata": {},
   "outputs": [],
   "source": [
    "import numpy as np\n",
    "from sklearn import linear_model\n",
    "import matplotlib.pyplot as plt"
   ]
  },
  {
   "cell_type": "code",
   "execution_count": null,
   "metadata": {
    "collapsed": true
   },
   "outputs": [],
   "source": [
    "# where the algorithm is\n",
    "\n",
    "lr = linear_model.LinearRegression()\n",
    "\n"
   ]
  }
 ],
 "metadata": {
  "kernelspec": {
   "display_name": "Python 2",
   "language": "python",
   "name": "python2"
  },
  "language_info": {
   "codemirror_mode": {
    "name": "ipython",
    "version": 2
   },
   "file_extension": ".py",
   "mimetype": "text/x-python",
   "name": "python",
   "nbconvert_exporter": "python",
   "pygments_lexer": "ipython2",
   "version": "2.7.12"
  }
 },
 "nbformat": 4,
 "nbformat_minor": 1
}
