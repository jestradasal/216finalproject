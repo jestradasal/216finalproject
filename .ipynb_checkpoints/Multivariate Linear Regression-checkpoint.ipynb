{
 "cells": [
  {
   "cell_type": "code",
   "execution_count": null,
   "metadata": {},
   "outputs": [],
   "source": [
    "#Training Data\n",
    "\n",
    "dropouts =[('Alamance', [3.31]), \n",
    "           ('Alexander', [2.49]), \n",
    "           ('Alleghany', [2.97]), \n",
    "           ('Anson', [4.06]), \n",
    "           ('Ashe', [2.48]), \n",
    "           ('Avery', [1.23]), \n",
    "           ('Beaufort', [2.05]), \n",
    "           ('Bertie', [3.12]), \n",
    "           ('Bladen', [4.22]), \n",
    "           ('Brunswick', [3.09])]\n",
    "#dropout rates\n",
    "sat = [('Alamance', [1418.0]), \n",
    "       ('Alexander', [1399.0]), \n",
    "       ('Alleghany', [1421.0]), \n",
    "       ('Anson', [1270.0]), \n",
    "       ('Ashe', [1471.0]), \n",
    "       ('Avery', [1479.0]), \n",
    "       ('Beaufort', [1369.0]), \n",
    "       ('Bertie', [1161.0]), \n",
    "       ('Bladen', [1264.0]), \n",
    "       ('Brunswick', [1424.0])]\n",
    "#sat scores: math, cr, writing, total\n",
    "lunch = [('Alamance', [50.9556145]),\n",
    "         ('Alexander', [45.6954887]), \n",
    "         ('Alleghany', [58.3333333]), \n",
    "         ('Anson', [71.6897507]), \n",
    "         ('Ashe', [50.6157247]), \n",
    "         ('Avery', [51.6401125]), \n",
    "         ('Beaufort', [60.9312321]), \n",
    "         ('Bertie', [79.7250859]), \n",
    "         ('Bladen', [73.0753564]), \n",
    "         ('Brunswick', [54.2250635])]\n",
    "# lunch percent 2013\n",
    "races = [('Alamance', [22.40278584, 21.06790482, 51.32371981]), \n",
    "        ('Alexander', [7.475764355, 3.784489187, 83.6316182]), \n",
    "        ('Alleghany', [18.20143885, 0.575539568, 79.85611511]), \n",
    "        ('Anson', [3.178082192, 57.83561644, 34.2739726]), \n",
    "        ('Ashe', [8.64390855, 0.40714062, 89.22643282]), \n",
    "        ('Avery', [8.70379036, 0.280767431, 89.14365934]), \n",
    "        ('Beaufort', [13.62215909, 32.31534091, 50.01420455]), \n",
    "        ('Bertie', [2.028549962, 81.55522164, 14.65063862]), \n",
    "        ('Bladen', [14.11079888, 40.4857487, 40.08430349]), \n",
    "        ('Brunswick', [10.46370478, 15.93428826, 67.97766448])]\n",
    "# race\n",
    "    #black, hispanic, white, other, totalcdf for 2013\n",
    "income = [('Alamance', [41371.0]),\n",
    "          ('Alexander', [39812.0]),\n",
    "          ('Alleghany', [32673.0]),\n",
    "          ('Anson', [32341.0]),\n",
    "          ('Ashe', [34333.0]),\n",
    "          ('Avery', [36071.0]),\n",
    "          ('Beaufort', [38248.0]),\n",
    "          ('Bertie', [29615.0]),\n",
    "          ('Bladen', [33138.0]),\n",
    "          ('Brunswick', [42685.0])]\n",
    "#income, 2013"
   ]
  },
  {
   "cell_type": "code",
   "execution_count": null,
   "metadata": {},
   "outputs": [],
   "source": [
    "\n",
    "import statsmodels.api as sm"
   ]
  },
  {
   "cell_type": "code",
   "execution_count": null,
   "metadata": {},
   "outputs": [],
   "source": [
    "#training data is 2013 data\n",
    "y = sat[:1]\n",
    "X = dropouts[:1]\n",
    "\n",
    "\n",
    "\n",
    "model = sm.OLS(y, X).fit()\n",
    "\n",
    "print model.summary()"
   ]
  },
  {
   "cell_type": "code",
   "execution_count": null,
   "metadata": {},
   "outputs": [],
   "source": []
  }
 ],
 "metadata": {
  "kernelspec": {
   "display_name": "Python 2",
   "language": "python",
   "name": "python2"
  },
  "language_info": {
   "codemirror_mode": {
    "name": "ipython",
    "version": 2
   },
   "file_extension": ".py",
   "mimetype": "text/x-python",
   "name": "python",
   "nbconvert_exporter": "python",
   "pygments_lexer": "ipython2",
   "version": "2.7.12"
  }
 },
 "nbformat": 4,
 "nbformat_minor": 2
}
